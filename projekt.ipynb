{
 "cells": [
  {
   "cell_type": "code",
   "execution_count": 70,
   "metadata": {
    "collapsed": true
   },
   "outputs": [],
   "source": [
    "import pandas as pd\n",
    "%matplotlib inline\n",
    "\n",
    "pd.options.display.max_rows = 20"
   ]
  },
  {
   "cell_type": "code",
   "execution_count": 71,
   "metadata": {
    "collapsed": false
   },
   "outputs": [
    {
     "data": {
      "text/html": [
       "<div>\n",
       "<table border=\"1\" class=\"dataframe\">\n",
       "  <thead>\n",
       "    <tr style=\"text-align: right;\">\n",
       "      <th></th>\n",
       "      <th>Name</th>\n",
       "      <th>Short_country_name</th>\n",
       "      <th>Full_country_name</th>\n",
       "      <th>P1</th>\n",
       "      <th>P2</th>\n",
       "      <th>P3</th>\n",
       "      <th>P4</th>\n",
       "      <th>P5</th>\n",
       "      <th>P6</th>\n",
       "      <th>Points</th>\n",
       "      <th>Rank</th>\n",
       "      <th>Year</th>\n",
       "      <th>Achievement</th>\n",
       "    </tr>\n",
       "    <tr>\n",
       "      <th>id</th>\n",
       "      <th></th>\n",
       "      <th></th>\n",
       "      <th></th>\n",
       "      <th></th>\n",
       "      <th></th>\n",
       "      <th></th>\n",
       "      <th></th>\n",
       "      <th></th>\n",
       "      <th></th>\n",
       "      <th></th>\n",
       "      <th></th>\n",
       "      <th></th>\n",
       "      <th></th>\n",
       "    </tr>\n",
       "  </thead>\n",
       "  <tbody>\n",
       "    <tr>\n",
       "      <th>15785</th>\n",
       "      <td>Konstantin Matveev</td>\n",
       "      <td>RUS</td>\n",
       "      <td>Russian Federation</td>\n",
       "      <td>7</td>\n",
       "      <td>7</td>\n",
       "      <td>2</td>\n",
       "      <td>7</td>\n",
       "      <td>7</td>\n",
       "      <td>7</td>\n",
       "      <td>37</td>\n",
       "      <td>1</td>\n",
       "      <td>2007</td>\n",
       "      <td>Gold medal</td>\n",
       "    </tr>\n",
       "    <tr>\n",
       "      <th>7867</th>\n",
       "      <td>Peter Scholze</td>\n",
       "      <td>GER</td>\n",
       "      <td>Germany</td>\n",
       "      <td>7</td>\n",
       "      <td>7</td>\n",
       "      <td>1</td>\n",
       "      <td>7</td>\n",
       "      <td>7</td>\n",
       "      <td>7</td>\n",
       "      <td>36</td>\n",
       "      <td>2</td>\n",
       "      <td>2007</td>\n",
       "      <td>Gold medal</td>\n",
       "    </tr>\n",
       "    <tr>\n",
       "      <th>8821</th>\n",
       "      <td>Caili Shen</td>\n",
       "      <td>CHN</td>\n",
       "      <td>People's Republic of China</td>\n",
       "      <td>7</td>\n",
       "      <td>7</td>\n",
       "      <td>7</td>\n",
       "      <td>7</td>\n",
       "      <td>7</td>\n",
       "      <td>1</td>\n",
       "      <td>36</td>\n",
       "      <td>2</td>\n",
       "      <td>2007</td>\n",
       "      <td>Gold medal</td>\n",
       "    </tr>\n",
       "    <tr>\n",
       "      <th>15607</th>\n",
       "      <td>Pietro Vertechi</td>\n",
       "      <td>ITA</td>\n",
       "      <td>Italy</td>\n",
       "      <td>7</td>\n",
       "      <td>7</td>\n",
       "      <td>0</td>\n",
       "      <td>7</td>\n",
       "      <td>7</td>\n",
       "      <td>7</td>\n",
       "      <td>35</td>\n",
       "      <td>4</td>\n",
       "      <td>2007</td>\n",
       "      <td>Gold medal</td>\n",
       "    </tr>\n",
       "    <tr>\n",
       "      <th>8976</th>\n",
       "      <td>Danylo Radchenko</td>\n",
       "      <td>UKR</td>\n",
       "      <td>Ukraine</td>\n",
       "      <td>7</td>\n",
       "      <td>7</td>\n",
       "      <td>0</td>\n",
       "      <td>7</td>\n",
       "      <td>7</td>\n",
       "      <td>7</td>\n",
       "      <td>35</td>\n",
       "      <td>4</td>\n",
       "      <td>2007</td>\n",
       "      <td>Gold medal</td>\n",
       "    </tr>\n",
       "    <tr>\n",
       "      <th>15784</th>\n",
       "      <td>Maria Ilyukhina</td>\n",
       "      <td>RUS</td>\n",
       "      <td>Russian Federation</td>\n",
       "      <td>7</td>\n",
       "      <td>7</td>\n",
       "      <td>5</td>\n",
       "      <td>7</td>\n",
       "      <td>7</td>\n",
       "      <td>1</td>\n",
       "      <td>34</td>\n",
       "      <td>6</td>\n",
       "      <td>2007</td>\n",
       "      <td>Gold medal</td>\n",
       "    </tr>\n",
       "    <tr>\n",
       "      <th>7893</th>\n",
       "      <td>Toshiki Kataoka</td>\n",
       "      <td>JPN</td>\n",
       "      <td>Japan</td>\n",
       "      <td>7</td>\n",
       "      <td>7</td>\n",
       "      <td>3</td>\n",
       "      <td>7</td>\n",
       "      <td>7</td>\n",
       "      <td>1</td>\n",
       "      <td>32</td>\n",
       "      <td>7</td>\n",
       "      <td>2007</td>\n",
       "      <td>Gold medal</td>\n",
       "    </tr>\n",
       "    <tr>\n",
       "      <th>8364</th>\n",
       "      <td>Whan Ghang</td>\n",
       "      <td>KOR</td>\n",
       "      <td>Republic of Korea</td>\n",
       "      <td>7</td>\n",
       "      <td>7</td>\n",
       "      <td>4</td>\n",
       "      <td>7</td>\n",
       "      <td>7</td>\n",
       "      <td>0</td>\n",
       "      <td>32</td>\n",
       "      <td>7</td>\n",
       "      <td>2007</td>\n",
       "      <td>Gold medal</td>\n",
       "    </tr>\n",
       "    <tr>\n",
       "      <th>15770</th>\n",
       "      <td>Livia Alexandra Ilie</td>\n",
       "      <td>ROU</td>\n",
       "      <td>Romania</td>\n",
       "      <td>7</td>\n",
       "      <td>7</td>\n",
       "      <td>4</td>\n",
       "      <td>7</td>\n",
       "      <td>7</td>\n",
       "      <td>0</td>\n",
       "      <td>32</td>\n",
       "      <td>7</td>\n",
       "      <td>2007</td>\n",
       "      <td>Gold medal</td>\n",
       "    </tr>\n",
       "    <tr>\n",
       "      <th>7209</th>\n",
       "      <td>Sherry Gong</td>\n",
       "      <td>USA</td>\n",
       "      <td>United States of America</td>\n",
       "      <td>7</td>\n",
       "      <td>7</td>\n",
       "      <td>3</td>\n",
       "      <td>7</td>\n",
       "      <td>7</td>\n",
       "      <td>1</td>\n",
       "      <td>32</td>\n",
       "      <td>7</td>\n",
       "      <td>2007</td>\n",
       "      <td>Gold medal</td>\n",
       "    </tr>\n",
       "    <tr>\n",
       "      <th>...</th>\n",
       "      <td>...</td>\n",
       "      <td>...</td>\n",
       "      <td>...</td>\n",
       "      <td>...</td>\n",
       "      <td>...</td>\n",
       "      <td>...</td>\n",
       "      <td>...</td>\n",
       "      <td>...</td>\n",
       "      <td>...</td>\n",
       "      <td>...</td>\n",
       "      <td>...</td>\n",
       "      <td>...</td>\n",
       "      <td>...</td>\n",
       "    </tr>\n",
       "    <tr>\n",
       "      <th>26682</th>\n",
       "      <td>Shine Maw Arnt</td>\n",
       "      <td>MMR</td>\n",
       "      <td>Myanmar</td>\n",
       "      <td>0</td>\n",
       "      <td>0</td>\n",
       "      <td>0</td>\n",
       "      <td>0</td>\n",
       "      <td>0</td>\n",
       "      <td>0</td>\n",
       "      <td>0</td>\n",
       "      <td>568</td>\n",
       "      <td>2016</td>\n",
       "      <td>NaN</td>\n",
       "    </tr>\n",
       "    <tr>\n",
       "      <th>26681</th>\n",
       "      <td>Nyan Sint</td>\n",
       "      <td>MMR</td>\n",
       "      <td>Myanmar</td>\n",
       "      <td>0</td>\n",
       "      <td>0</td>\n",
       "      <td>0</td>\n",
       "      <td>0</td>\n",
       "      <td>0</td>\n",
       "      <td>0</td>\n",
       "      <td>0</td>\n",
       "      <td>568</td>\n",
       "      <td>2016</td>\n",
       "      <td>NaN</td>\n",
       "    </tr>\n",
       "    <tr>\n",
       "      <th>26680</th>\n",
       "      <td>Hnin Wai</td>\n",
       "      <td>MMR</td>\n",
       "      <td>Myanmar</td>\n",
       "      <td>0</td>\n",
       "      <td>0</td>\n",
       "      <td>0</td>\n",
       "      <td>0</td>\n",
       "      <td>0</td>\n",
       "      <td>0</td>\n",
       "      <td>0</td>\n",
       "      <td>568</td>\n",
       "      <td>2016</td>\n",
       "      <td>NaN</td>\n",
       "    </tr>\n",
       "    <tr>\n",
       "      <th>26837</th>\n",
       "      <td>Sondre Sørbø</td>\n",
       "      <td>NOR</td>\n",
       "      <td>Norway</td>\n",
       "      <td>0</td>\n",
       "      <td>0</td>\n",
       "      <td>0</td>\n",
       "      <td>0</td>\n",
       "      <td>0</td>\n",
       "      <td>0</td>\n",
       "      <td>0</td>\n",
       "      <td>568</td>\n",
       "      <td>2016</td>\n",
       "      <td>NaN</td>\n",
       "    </tr>\n",
       "    <tr>\n",
       "      <th>26432</th>\n",
       "      <td>Osama Zeeshan Ahmad</td>\n",
       "      <td>PAK</td>\n",
       "      <td>Pakistan</td>\n",
       "      <td>0</td>\n",
       "      <td>0</td>\n",
       "      <td>0</td>\n",
       "      <td>0</td>\n",
       "      <td>0</td>\n",
       "      <td>0</td>\n",
       "      <td>0</td>\n",
       "      <td>568</td>\n",
       "      <td>2016</td>\n",
       "      <td>NaN</td>\n",
       "    </tr>\n",
       "    <tr>\n",
       "      <th>26434</th>\n",
       "      <td>Ahmed Yaseen</td>\n",
       "      <td>PAK</td>\n",
       "      <td>Pakistan</td>\n",
       "      <td>0</td>\n",
       "      <td>0</td>\n",
       "      <td>0</td>\n",
       "      <td>0</td>\n",
       "      <td>0</td>\n",
       "      <td>0</td>\n",
       "      <td>0</td>\n",
       "      <td>568</td>\n",
       "      <td>2016</td>\n",
       "      <td>NaN</td>\n",
       "    </tr>\n",
       "    <tr>\n",
       "      <th>26994</th>\n",
       "      <td>Mekan Shahanov</td>\n",
       "      <td>TKM</td>\n",
       "      <td>Turkmenistan</td>\n",
       "      <td>0</td>\n",
       "      <td>0</td>\n",
       "      <td>0</td>\n",
       "      <td>0</td>\n",
       "      <td>0</td>\n",
       "      <td>0</td>\n",
       "      <td>0</td>\n",
       "      <td>568</td>\n",
       "      <td>2016</td>\n",
       "      <td>NaN</td>\n",
       "    </tr>\n",
       "    <tr>\n",
       "      <th>26447</th>\n",
       "      <td>Timothy Musoke Muwambi</td>\n",
       "      <td>UGA</td>\n",
       "      <td>Uganda</td>\n",
       "      <td>0</td>\n",
       "      <td>0</td>\n",
       "      <td>0</td>\n",
       "      <td>0</td>\n",
       "      <td>0</td>\n",
       "      <td>0</td>\n",
       "      <td>0</td>\n",
       "      <td>568</td>\n",
       "      <td>2016</td>\n",
       "      <td>NaN</td>\n",
       "    </tr>\n",
       "    <tr>\n",
       "      <th>26512</th>\n",
       "      <td>Dilshod Bakhriddinov</td>\n",
       "      <td>UZB</td>\n",
       "      <td>Uzbekistan</td>\n",
       "      <td>0</td>\n",
       "      <td>0</td>\n",
       "      <td>0</td>\n",
       "      <td>0</td>\n",
       "      <td>0</td>\n",
       "      <td>0</td>\n",
       "      <td>0</td>\n",
       "      <td>568</td>\n",
       "      <td>2016</td>\n",
       "      <td>NaN</td>\n",
       "    </tr>\n",
       "    <tr>\n",
       "      <th>26511</th>\n",
       "      <td>Sanjar Esonmurodov</td>\n",
       "      <td>UZB</td>\n",
       "      <td>Uzbekistan</td>\n",
       "      <td>0</td>\n",
       "      <td>0</td>\n",
       "      <td>0</td>\n",
       "      <td>0</td>\n",
       "      <td>0</td>\n",
       "      <td>0</td>\n",
       "      <td>0</td>\n",
       "      <td>568</td>\n",
       "      <td>2016</td>\n",
       "      <td>NaN</td>\n",
       "    </tr>\n",
       "  </tbody>\n",
       "</table>\n",
       "<p>5512 rows × 13 columns</p>\n",
       "</div>"
      ],
      "text/plain": [
       "                         Name Short_country_name           Full_country_name  \\\n",
       "id                                                                             \n",
       "15785      Konstantin Matveev                RUS          Russian Federation   \n",
       "7867            Peter Scholze                GER                     Germany   \n",
       "8821               Caili Shen                CHN  People's Republic of China   \n",
       "15607         Pietro Vertechi                ITA                       Italy   \n",
       "8976         Danylo Radchenko                UKR                     Ukraine   \n",
       "15784         Maria Ilyukhina                RUS          Russian Federation   \n",
       "7893          Toshiki Kataoka                JPN                       Japan   \n",
       "8364               Whan Ghang                KOR           Republic of Korea   \n",
       "15770    Livia Alexandra Ilie                ROU                     Romania   \n",
       "7209              Sherry Gong                USA    United States of America   \n",
       "...                       ...                ...                         ...   \n",
       "26682          Shine Maw Arnt                MMR                     Myanmar   \n",
       "26681               Nyan Sint                MMR                     Myanmar   \n",
       "26680                Hnin Wai                MMR                     Myanmar   \n",
       "26837            Sondre Sørbø                NOR                      Norway   \n",
       "26432     Osama Zeeshan Ahmad                PAK                    Pakistan   \n",
       "26434            Ahmed Yaseen                PAK                    Pakistan   \n",
       "26994          Mekan Shahanov                TKM                Turkmenistan   \n",
       "26447  Timothy Musoke Muwambi                UGA                      Uganda   \n",
       "26512    Dilshod Bakhriddinov                UZB                  Uzbekistan   \n",
       "26511      Sanjar Esonmurodov                UZB                  Uzbekistan   \n",
       "\n",
       "       P1  P2  P3  P4  P5  P6  Points  Rank  Year Achievement  \n",
       "id                                                             \n",
       "15785   7   7   2   7   7   7      37     1  2007  Gold medal  \n",
       "7867    7   7   1   7   7   7      36     2  2007  Gold medal  \n",
       "8821    7   7   7   7   7   1      36     2  2007  Gold medal  \n",
       "15607   7   7   0   7   7   7      35     4  2007  Gold medal  \n",
       "8976    7   7   0   7   7   7      35     4  2007  Gold medal  \n",
       "15784   7   7   5   7   7   1      34     6  2007  Gold medal  \n",
       "7893    7   7   3   7   7   1      32     7  2007  Gold medal  \n",
       "8364    7   7   4   7   7   0      32     7  2007  Gold medal  \n",
       "15770   7   7   4   7   7   0      32     7  2007  Gold medal  \n",
       "7209    7   7   3   7   7   1      32     7  2007  Gold medal  \n",
       "...    ..  ..  ..  ..  ..  ..     ...   ...   ...         ...  \n",
       "26682   0   0   0   0   0   0       0   568  2016         NaN  \n",
       "26681   0   0   0   0   0   0       0   568  2016         NaN  \n",
       "26680   0   0   0   0   0   0       0   568  2016         NaN  \n",
       "26837   0   0   0   0   0   0       0   568  2016         NaN  \n",
       "26432   0   0   0   0   0   0       0   568  2016         NaN  \n",
       "26434   0   0   0   0   0   0       0   568  2016         NaN  \n",
       "26994   0   0   0   0   0   0       0   568  2016         NaN  \n",
       "26447   0   0   0   0   0   0       0   568  2016         NaN  \n",
       "26512   0   0   0   0   0   0       0   568  2016         NaN  \n",
       "26511   0   0   0   0   0   0       0   568  2016         NaN  \n",
       "\n",
       "[5512 rows x 13 columns]"
      ]
     },
     "execution_count": 71,
     "metadata": {},
     "output_type": "execute_result"
    }
   ],
   "source": [
    "data = pd.read_csv('data.csv', thousands=',',index_col = 'id' )\n",
    "data"
   ]
  },
  {
   "cell_type": "code",
   "execution_count": 72,
   "metadata": {
    "collapsed": false
   },
   "outputs": [
    {
     "data": {
      "text/plain": [
       "Name\n",
       "Zhuo Qun (Alex) Song                 196\n",
       "Teodor von Burg                      185\n",
       "Lisa Sauermann                       176\n",
       "Jeck Lim                             162\n",
       "Nipun Pitimanaaree                   158\n",
       "Omer Cerrahoglu                      148\n",
       "Alexander Gunning                    131\n",
       "Evan O'Dorney                        125\n",
       "Melih Üçer                           122\n",
       "Dong Ryul Kim                        116\n",
       "Diego Alonso Roque Montoya           114\n",
       "Warren Li                            114\n",
       "Kevin Sun                            113\n",
       "Andrew Carlotti                      111\n",
       "Allen Liu                            110\n",
       "Makoto Soejima                       107\n",
       "Martin Vodička                       105\n",
       "Andrea Fogari                        103\n",
       "Ufuk Kanat                           102\n",
       "Christian Omar Altamirano Modesto    101\n",
       "Name: Points, dtype: int64"
      ]
     },
     "execution_count": 72,
     "metadata": {},
     "output_type": "execute_result"
    }
   ],
   "source": [
    "best_competitors = data.groupby('Name')\n",
    "best_competitors['Points'].sum().sort_values(ascending=False)[:20]"
   ]
  },
  {
   "cell_type": "code",
   "execution_count": 73,
   "metadata": {
    "collapsed": false
   },
   "outputs": [
    {
     "data": {
      "text/html": [
       "<div>\n",
       "<table border=\"1\" class=\"dataframe\">\n",
       "  <thead>\n",
       "    <tr style=\"text-align: right;\">\n",
       "      <th></th>\n",
       "      <th>P1</th>\n",
       "      <th>P2</th>\n",
       "      <th>P3</th>\n",
       "      <th>P4</th>\n",
       "      <th>P5</th>\n",
       "      <th>P6</th>\n",
       "    </tr>\n",
       "    <tr>\n",
       "      <th>Year</th>\n",
       "      <th></th>\n",
       "      <th></th>\n",
       "      <th></th>\n",
       "      <th></th>\n",
       "      <th></th>\n",
       "      <th></th>\n",
       "    </tr>\n",
       "  </thead>\n",
       "  <tbody>\n",
       "    <tr>\n",
       "      <th>2007</th>\n",
       "      <td>3.382692</td>\n",
       "      <td>2.519231</td>\n",
       "      <td>0.303846</td>\n",
       "      <td>5.680769</td>\n",
       "      <td>1.898077</td>\n",
       "      <td>0.151923</td>\n",
       "    </tr>\n",
       "    <tr>\n",
       "      <th>2008</th>\n",
       "      <td>4.979439</td>\n",
       "      <td>2.562617</td>\n",
       "      <td>0.803738</td>\n",
       "      <td>4.401869</td>\n",
       "      <td>2.076636</td>\n",
       "      <td>0.259813</td>\n",
       "    </tr>\n",
       "    <tr>\n",
       "      <th>2009</th>\n",
       "      <td>4.803540</td>\n",
       "      <td>3.709735</td>\n",
       "      <td>1.019469</td>\n",
       "      <td>2.915044</td>\n",
       "      <td>2.474336</td>\n",
       "      <td>0.168142</td>\n",
       "    </tr>\n",
       "    <tr>\n",
       "      <th>2010</th>\n",
       "      <td>5.449612</td>\n",
       "      <td>2.577519</td>\n",
       "      <td>0.465116</td>\n",
       "      <td>5.344961</td>\n",
       "      <td>0.932171</td>\n",
       "      <td>0.368217</td>\n",
       "    </tr>\n",
       "    <tr>\n",
       "      <th>2011</th>\n",
       "      <td>5.348135</td>\n",
       "      <td>0.653641</td>\n",
       "      <td>1.055062</td>\n",
       "      <td>4.069272</td>\n",
       "      <td>3.259325</td>\n",
       "      <td>0.317940</td>\n",
       "    </tr>\n",
       "    <tr>\n",
       "      <th>2012</th>\n",
       "      <td>5.625229</td>\n",
       "      <td>2.550274</td>\n",
       "      <td>0.413163</td>\n",
       "      <td>3.765996</td>\n",
       "      <td>1.663620</td>\n",
       "      <td>0.336380</td>\n",
       "    </tr>\n",
       "    <tr>\n",
       "      <th>2013</th>\n",
       "      <td>4.108159</td>\n",
       "      <td>2.525617</td>\n",
       "      <td>0.785579</td>\n",
       "      <td>5.442125</td>\n",
       "      <td>2.451613</td>\n",
       "      <td>0.296015</td>\n",
       "    </tr>\n",
       "    <tr>\n",
       "      <th>2014</th>\n",
       "      <td>5.348214</td>\n",
       "      <td>2.971429</td>\n",
       "      <td>0.505357</td>\n",
       "      <td>5.189286</td>\n",
       "      <td>1.708929</td>\n",
       "      <td>0.339286</td>\n",
       "    </tr>\n",
       "    <tr>\n",
       "      <th>2015</th>\n",
       "      <td>4.306759</td>\n",
       "      <td>1.358752</td>\n",
       "      <td>0.653380</td>\n",
       "      <td>4.793761</td>\n",
       "      <td>1.512998</td>\n",
       "      <td>0.355286</td>\n",
       "    </tr>\n",
       "    <tr>\n",
       "      <th>2016</th>\n",
       "      <td>5.272425</td>\n",
       "      <td>2.033223</td>\n",
       "      <td>0.250831</td>\n",
       "      <td>4.744186</td>\n",
       "      <td>1.677741</td>\n",
       "      <td>0.805648</td>\n",
       "    </tr>\n",
       "  </tbody>\n",
       "</table>\n",
       "</div>"
      ],
      "text/plain": [
       "            P1        P2        P3        P4        P5        P6\n",
       "Year                                                            \n",
       "2007  3.382692  2.519231  0.303846  5.680769  1.898077  0.151923\n",
       "2008  4.979439  2.562617  0.803738  4.401869  2.076636  0.259813\n",
       "2009  4.803540  3.709735  1.019469  2.915044  2.474336  0.168142\n",
       "2010  5.449612  2.577519  0.465116  5.344961  0.932171  0.368217\n",
       "2011  5.348135  0.653641  1.055062  4.069272  3.259325  0.317940\n",
       "2012  5.625229  2.550274  0.413163  3.765996  1.663620  0.336380\n",
       "2013  4.108159  2.525617  0.785579  5.442125  2.451613  0.296015\n",
       "2014  5.348214  2.971429  0.505357  5.189286  1.708929  0.339286\n",
       "2015  4.306759  1.358752  0.653380  4.793761  1.512998  0.355286\n",
       "2016  5.272425  2.033223  0.250831  4.744186  1.677741  0.805648"
      ]
     },
     "execution_count": 73,
     "metadata": {},
     "output_type": "execute_result"
    }
   ],
   "source": [
    "po_letih = data.groupby('Year')\n",
    "najtežja_naloga = po_letih[['P1','P2','P3','P4','P5','P6']].mean()\n",
    "najtežja_naloga"
   ]
  },
  {
   "cell_type": "code",
   "execution_count": 74,
   "metadata": {
    "collapsed": false
   },
   "outputs": [
    {
     "data": {
      "text/plain": [
       "<matplotlib.legend.Legend at 0x10991c940>"
      ]
     },
     "execution_count": 74,
     "metadata": {},
     "output_type": "execute_result"
    },
    {
     "data": {
      "image/png": "[encoded data removed]",
      "text/plain": [
       "<matplotlib.figure.Figure at 0x1099a2400>"
      ]
     },
     "metadata": {},
     "output_type": "display_data"
    }
   ],
   "source": [
    "graf = po_letih[['P1','P2','P3','P4','P5','P6']].mean().plot(kind='bar', stacked=True, figsize=(6, 4), fontsize=10)\n",
    "graf.legend(fontsize=7, loc=9, ncol=6)\n"
   ]
  },
  {
   "cell_type": "code",
   "execution_count": 75,
   "metadata": {
    "collapsed": false
   },
   "outputs": [
    {
     "data": {
      "text/plain": [
       "Short_country_name\n",
       "CHN    33.233333\n",
       "USA    30.916667\n",
       "KOR    29.950000\n",
       "RUS    29.616667\n",
       "PRK    26.925926\n",
       "TWN    25.733333\n",
       "JPN    25.716667\n",
       "THA    25.500000\n",
       "VNM    25.350000\n",
       "IRN    24.716667\n",
       "SGP    23.816667\n",
       "ROU    23.783333\n",
       "CAN    23.683333\n",
       "TUR    23.616667\n",
       "UKR    23.533333\n",
       "GER    22.400000\n",
       "HUN    22.233333\n",
       "UNK    22.216667\n",
       "AUS    22.116667\n",
       "ITA    21.183333\n",
       "Name: Points, dtype: float64"
      ]
     },
     "execution_count": 75,
     "metadata": {},
     "output_type": "execute_result"
    }
   ],
   "source": [
    "po_drzavah = data.groupby('Short_country_name')\n",
    "po_drzavah['Points'].mean().sort_values(ascending=False)[:20]"
   ]
  },
  {
   "cell_type": "code",
   "execution_count": 76,
   "metadata": {
    "collapsed": false
   },
   "outputs": [
    {
     "data": {
      "text/plain": [
       "<matplotlib.axes._subplots.AxesSubplot at 0x109d50940>"
      ]
     },
     "execution_count": 76,
     "metadata": {},
     "output_type": "execute_result"
    },
    {
     "data": {
      "image/png": "[encoded data removed]",
      "text/plain": [
       "<matplotlib.figure.Figure at 0x1099a2978>"
      ]
     },
     "metadata": {},
     "output_type": "display_data"
    }
   ],
   "source": [
    "zlati= data[data.Achievement == 'Gold medal']\n",
    "zlati.groupby('Year')['Points'].min().plot(kind='bar', color='y')"
   ]
  },
  {
   "cell_type": "code",
   "execution_count": 77,
   "metadata": {
    "collapsed": false
   },
   "outputs": [
    {
     "data": {
      "text/plain": [
       "<matplotlib.axes._subplots.AxesSubplot at 0x109f44978>"
      ]
     },
     "execution_count": 77,
     "metadata": {},
     "output_type": "execute_result"
    },
    {
     "data": {
      "image/png": "[encoded data removed]",
      "text/plain": [
       "<matplotlib.figure.Figure at 0x1093f59e8>"
      ]
     },
     "metadata": {},
     "output_type": "display_data"
    }
   ],
   "source": [
    "srebrni= data[data.Achievement == 'Silver medal']\n",
    "srebrni.groupby('Year')['Points'].min().plot(kind='bar', color='w')"
   ]
  },
  {
   "cell_type": "code",
   "execution_count": 78,
   "metadata": {
    "collapsed": false
   },
   "outputs": [
    {
     "data": {
      "text/plain": [
       "<matplotlib.axes._subplots.AxesSubplot at 0x109dc6f98>"
      ]
     },
     "execution_count": 78,
     "metadata": {},
     "output_type": "execute_result"
    },
    {
     "data": {
      "image/png": "[encoded data removed]",
      "text/plain": [
       "<matplotlib.figure.Figure at 0x10a1e2710>"
      ]
     },
     "metadata": {},
     "output_type": "display_data"
    }
   ],
   "source": [
    "bronasti= data[data.Achievement == 'Bronze medal']\n",
    "bronasti.groupby('Year')['Points'].min().plot(kind='bar', color='r')"
   ]
  },
  {
   "cell_type": "code",
   "execution_count": 79,
   "metadata": {
    "collapsed": false
   },
   "outputs": [
    {
     "data": {
      "text/plain": [
       "<matplotlib.axes._subplots.AxesSubplot at 0x10a20eba8>"
      ]
     },
     "execution_count": 79,
     "metadata": {},
     "output_type": "execute_result"
    },
    {
     "data": {
      "image/png": "[encoded data removed]",
      "text/plain": [
       "<matplotlib.figure.Figure at 0x10a273a90>"
      ]
     },
     "metadata": {},
     "output_type": "display_data"
    }
   ],
   "source": [
    "najboljsi_resevalci = data[(data.P3== 7) & (data.P6==7)].groupby('Short_country_name')\n",
    "najboljsi_resevalci.size().sort_values().plot(kind='pie',figsize=(7, 7), fontsize=13)"
   ]
  },
  {
   "cell_type": "code",
   "execution_count": 80,
   "metadata": {
    "collapsed": false
   },
   "outputs": [
    {
     "data": {
      "text/plain": [
       "Name\n",
       "Matjaž Leonardis          4\n",
       "Amadej Kristjan Kocbek    4\n",
       "Žiga Krajnik              3\n",
       "Anja Komatar              3\n",
       "Matej Aleksandrov         3\n",
       "Nik Jazbinšek             3\n",
       "Juan Gabriel Kostelec     3\n",
       "Veno Mramor               3\n",
       "dtype: int64"
      ]
     },
     "execution_count": 80,
     "metadata": {},
     "output_type": "execute_result"
    }
   ],
   "source": [
    "slovenci = data[data.Short_country_name == 'SVN'].sort_values('Points', ascending=False)\n",
    "slovenci.groupby('Name').size().sort_values(ascending=False)[:8]"
   ]
  },
  {
   "cell_type": "code",
   "execution_count": 81,
   "metadata": {
    "collapsed": false
   },
   "outputs": [
    {
     "data": {
      "text/html": [
       "<div>\n",
       "<table border=\"1\" class=\"dataframe\">\n",
       "  <thead>\n",
       "    <tr style=\"text-align: right;\">\n",
       "      <th></th>\n",
       "      <th>Name</th>\n",
       "      <th>Short_country_name</th>\n",
       "      <th>Full_country_name</th>\n",
       "      <th>P1</th>\n",
       "      <th>P2</th>\n",
       "      <th>P3</th>\n",
       "      <th>P4</th>\n",
       "      <th>P5</th>\n",
       "      <th>P6</th>\n",
       "      <th>Points</th>\n",
       "      <th>Rank</th>\n",
       "      <th>Year</th>\n",
       "      <th>Achievement</th>\n",
       "    </tr>\n",
       "    <tr>\n",
       "      <th>id</th>\n",
       "      <th></th>\n",
       "      <th></th>\n",
       "      <th></th>\n",
       "      <th></th>\n",
       "      <th></th>\n",
       "      <th></th>\n",
       "      <th></th>\n",
       "      <th></th>\n",
       "      <th></th>\n",
       "      <th></th>\n",
       "      <th></th>\n",
       "      <th></th>\n",
       "      <th></th>\n",
       "    </tr>\n",
       "  </thead>\n",
       "  <tbody>\n",
       "    <tr>\n",
       "      <th>21760</th>\n",
       "      <td>Vesna Iršič</td>\n",
       "      <td>SVN</td>\n",
       "      <td>Slovenia</td>\n",
       "      <td>7</td>\n",
       "      <td>7</td>\n",
       "      <td>0</td>\n",
       "      <td>2</td>\n",
       "      <td>3</td>\n",
       "      <td>0</td>\n",
       "      <td>19</td>\n",
       "      <td>151</td>\n",
       "      <td>2012</td>\n",
       "      <td>Bronze medal</td>\n",
       "    </tr>\n",
       "    <tr>\n",
       "      <th>24952</th>\n",
       "      <td>Juš Kosmač</td>\n",
       "      <td>SVN</td>\n",
       "      <td>Slovenia</td>\n",
       "      <td>7</td>\n",
       "      <td>5</td>\n",
       "      <td>0</td>\n",
       "      <td>7</td>\n",
       "      <td>0</td>\n",
       "      <td>0</td>\n",
       "      <td>19</td>\n",
       "      <td>221</td>\n",
       "      <td>2014</td>\n",
       "      <td>Bronze medal</td>\n",
       "    </tr>\n",
       "    <tr>\n",
       "      <th>15799</th>\n",
       "      <td>Jure Vogrinc</td>\n",
       "      <td>SVN</td>\n",
       "      <td>Slovenia</td>\n",
       "      <td>3</td>\n",
       "      <td>7</td>\n",
       "      <td>0</td>\n",
       "      <td>7</td>\n",
       "      <td>1</td>\n",
       "      <td>0</td>\n",
       "      <td>18</td>\n",
       "      <td>145</td>\n",
       "      <td>2007</td>\n",
       "      <td>Bronze medal</td>\n",
       "    </tr>\n",
       "    <tr>\n",
       "      <th>19481</th>\n",
       "      <td>Veno Mramor</td>\n",
       "      <td>SVN</td>\n",
       "      <td>Slovenia</td>\n",
       "      <td>7</td>\n",
       "      <td>7</td>\n",
       "      <td>0</td>\n",
       "      <td>3</td>\n",
       "      <td>0</td>\n",
       "      <td>0</td>\n",
       "      <td>17</td>\n",
       "      <td>182</td>\n",
       "      <td>2012</td>\n",
       "      <td>Bronze medal</td>\n",
       "    </tr>\n",
       "    <tr>\n",
       "      <th>15799</th>\n",
       "      <td>Jure Vogrinc</td>\n",
       "      <td>SVN</td>\n",
       "      <td>Slovenia</td>\n",
       "      <td>7</td>\n",
       "      <td>1</td>\n",
       "      <td>0</td>\n",
       "      <td>7</td>\n",
       "      <td>2</td>\n",
       "      <td>0</td>\n",
       "      <td>17</td>\n",
       "      <td>199</td>\n",
       "      <td>2008</td>\n",
       "      <td>Bronze medal</td>\n",
       "    </tr>\n",
       "    <tr>\n",
       "      <th>21761</th>\n",
       "      <td>Juan Gabriel Kostelec</td>\n",
       "      <td>SVN</td>\n",
       "      <td>Slovenia</td>\n",
       "      <td>7</td>\n",
       "      <td>1</td>\n",
       "      <td>0</td>\n",
       "      <td>7</td>\n",
       "      <td>2</td>\n",
       "      <td>0</td>\n",
       "      <td>17</td>\n",
       "      <td>256</td>\n",
       "      <td>2014</td>\n",
       "      <td>Bronze medal</td>\n",
       "    </tr>\n",
       "  </tbody>\n",
       "</table>\n",
       "</div>"
      ],
      "text/plain": [
       "                        Name Short_country_name Full_country_name  P1  P2  P3  \\\n",
       "id                                                                              \n",
       "21760            Vesna Iršič                SVN          Slovenia   7   7   0   \n",
       "24952             Juš Kosmač                SVN          Slovenia   7   5   0   \n",
       "15799           Jure Vogrinc                SVN          Slovenia   3   7   0   \n",
       "19481            Veno Mramor                SVN          Slovenia   7   7   0   \n",
       "15799           Jure Vogrinc                SVN          Slovenia   7   1   0   \n",
       "21761  Juan Gabriel Kostelec                SVN          Slovenia   7   1   0   \n",
       "\n",
       "       P4  P5  P6  Points  Rank  Year   Achievement  \n",
       "id                                                   \n",
       "21760   2   3   0      19   151  2012  Bronze medal  \n",
       "24952   7   0   0      19   221  2014  Bronze medal  \n",
       "15799   7   1   0      18   145  2007  Bronze medal  \n",
       "19481   3   0   0      17   182  2012  Bronze medal  \n",
       "15799   7   2   0      17   199  2008  Bronze medal  \n",
       "21761   7   2   0      17   256  2014  Bronze medal  "
      ]
     },
     "execution_count": 81,
     "metadata": {},
     "output_type": "execute_result"
    }
   ],
   "source": [
    "slovenci[:6]"
   ]
  },
  {
   "cell_type": "code",
   "execution_count": 82,
   "metadata": {
    "collapsed": false
   },
   "outputs": [
    {
     "data": {
      "image/png": "[encoded data removed]",
      "text/plain": [
       "<matplotlib.figure.Figure at 0x10a277898>"
      ]
     },
     "metadata": {},
     "output_type": "display_data"
    }
   ],
   "source": [
    "graf = slovenci.groupby('Year')['Points'].sum().plot()"
   ]
  },
  {
   "cell_type": "code",
   "execution_count": 83,
   "metadata": {
    "collapsed": false
   },
   "outputs": [
    {
     "data": {
      "text/plain": [
       "Name\n",
       "Matjaž Leonardis    50\n",
       "Name: Points, dtype: int64"
      ]
     },
     "execution_count": 83,
     "metadata": {},
     "output_type": "execute_result"
    }
   ],
   "source": [
    "najuspešnješi = slovenci.groupby('Name')['Points'].sum()\n",
    "najuspešnješi.sort_values(ascending=False)[:1]"
   ]
  },
  {
   "cell_type": "code",
   "execution_count": null,
   "metadata": {
    "collapsed": true
   },
   "outputs": [],
   "source": []
  },
  {
   "cell_type": "code",
   "execution_count": null,
   "metadata": {
    "collapsed": true
   },
   "outputs": [],
   "source": []
  }
 ],
 "metadata": {
  "kernelspec": {
   "display_name": "Python 3",
   "language": "python",
   "name": "python3"
  },
  "language_info": {
   "codemirror_mode": {
    "name": "ipython",
    "version": 3
   },
   "file_extension": ".py",
   "mimetype": "text/x-python",
   "name": "python",
   "nbconvert_exporter": "python",
   "pygments_lexer": "ipython3",
   "version": "3.5.1"
  }
 },
 "nbformat": 4,
 "nbformat_minor": 1
}
