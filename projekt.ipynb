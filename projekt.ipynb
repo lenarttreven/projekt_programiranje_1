{
 "cells": [
  {
   "cell_type": "code",
   "execution_count": 2,
   "metadata": {
    "collapsed": true
   },
   "outputs": [],
   "source": [
    "import pandas as pd\n",
    "%matplotlib inline\n",
    "\n",
    "pd.options.display.max_rows = 20"
   ]
  },
  {
   "cell_type": "code",
   "execution_count": 3,
   "metadata": {
    "collapsed": false
   },
   "outputs": [
    {
     "data": {
      "text/html": [
       "<div>\n",
       "<table border=\"1\" class=\"dataframe\">\n",
       "  <thead>\n",
       "    <tr style=\"text-align: right;\">\n",
       "      <th></th>\n",
       "      <th>Name</th>\n",
       "      <th>Short_country_name</th>\n",
       "      <th>Full_country_name</th>\n",
       "      <th>P1</th>\n",
       "      <th>P2</th>\n",
       "      <th>P3</th>\n",
       "      <th>P4</th>\n",
       "      <th>P5</th>\n",
       "      <th>P6</th>\n",
       "      <th>Points</th>\n",
       "      <th>Rank</th>\n",
       "      <th>Year</th>\n",
       "      <th>Achievement</th>\n",
       "    </tr>\n",
       "    <tr>\n",
       "      <th>id</th>\n",
       "      <th></th>\n",
       "      <th></th>\n",
       "      <th></th>\n",
       "      <th></th>\n",
       "      <th></th>\n",
       "      <th></th>\n",
       "      <th></th>\n",
       "      <th></th>\n",
       "      <th></th>\n",
       "      <th></th>\n",
       "      <th></th>\n",
       "      <th></th>\n",
       "      <th></th>\n",
       "    </tr>\n",
       "  </thead>\n",
       "  <tbody>\n",
       "    <tr>\n",
       "      <th>15785</th>\n",
       "      <td>Konstantin Matveev</td>\n",
       "      <td>RUS</td>\n",
       "      <td>Russian Federation</td>\n",
       "      <td>7</td>\n",
       "      <td>7</td>\n",
       "      <td>2</td>\n",
       "      <td>7</td>\n",
       "      <td>7</td>\n",
       "      <td>7</td>\n",
       "      <td>37</td>\n",
       "      <td>1</td>\n",
       "      <td>2007</td>\n",
       "      <td>Gold medal</td>\n",
       "    </tr>\n",
       "    <tr>\n",
       "      <th>8821</th>\n",
       "      <td>Caili Shen</td>\n",
       "      <td>CHN</td>\n",
       "      <td>People's Republic of China</td>\n",
       "      <td>7</td>\n",
       "      <td>7</td>\n",
       "      <td>7</td>\n",
       "      <td>7</td>\n",
       "      <td>7</td>\n",
       "      <td>1</td>\n",
       "      <td>36</td>\n",
       "      <td>2</td>\n",
       "      <td>2007</td>\n",
       "      <td>Gold medal</td>\n",
       "    </tr>\n",
       "    <tr>\n",
       "      <th>8976</th>\n",
       "      <td>Danylo Radchenko</td>\n",
       "      <td>UKR</td>\n",
       "      <td>Ukraine</td>\n",
       "      <td>7</td>\n",
       "      <td>7</td>\n",
       "      <td>0</td>\n",
       "      <td>7</td>\n",
       "      <td>7</td>\n",
       "      <td>7</td>\n",
       "      <td>35</td>\n",
       "      <td>4</td>\n",
       "      <td>2007</td>\n",
       "      <td>Gold medal</td>\n",
       "    </tr>\n",
       "    <tr>\n",
       "      <th>7893</th>\n",
       "      <td>Toshiki Kataoka</td>\n",
       "      <td>JPN</td>\n",
       "      <td>Japan</td>\n",
       "      <td>7</td>\n",
       "      <td>7</td>\n",
       "      <td>3</td>\n",
       "      <td>7</td>\n",
       "      <td>7</td>\n",
       "      <td>1</td>\n",
       "      <td>32</td>\n",
       "      <td>7</td>\n",
       "      <td>2007</td>\n",
       "      <td>Gold medal</td>\n",
       "    </tr>\n",
       "    <tr>\n",
       "      <th>15770</th>\n",
       "      <td>Livia Alexandra Ilie</td>\n",
       "      <td>ROU</td>\n",
       "      <td>Romania</td>\n",
       "      <td>7</td>\n",
       "      <td>7</td>\n",
       "      <td>4</td>\n",
       "      <td>7</td>\n",
       "      <td>7</td>\n",
       "      <td>0</td>\n",
       "      <td>32</td>\n",
       "      <td>7</td>\n",
       "      <td>2007</td>\n",
       "      <td>Gold medal</td>\n",
       "    </tr>\n",
       "    <tr>\n",
       "      <th>8868</th>\n",
       "      <td>Alex (Lin) Zhai</td>\n",
       "      <td>USA</td>\n",
       "      <td>United States of America</td>\n",
       "      <td>7</td>\n",
       "      <td>7</td>\n",
       "      <td>3</td>\n",
       "      <td>7</td>\n",
       "      <td>7</td>\n",
       "      <td>1</td>\n",
       "      <td>32</td>\n",
       "      <td>7</td>\n",
       "      <td>2007</td>\n",
       "      <td>Gold medal</td>\n",
       "    </tr>\n",
       "    <tr>\n",
       "      <th>8884</th>\n",
       "      <td>Jeha Yang</td>\n",
       "      <td>KOR</td>\n",
       "      <td>Republic of Korea</td>\n",
       "      <td>7</td>\n",
       "      <td>7</td>\n",
       "      <td>2</td>\n",
       "      <td>7</td>\n",
       "      <td>7</td>\n",
       "      <td>1</td>\n",
       "      <td>31</td>\n",
       "      <td>12</td>\n",
       "      <td>2007</td>\n",
       "      <td>Gold medal</td>\n",
       "    </tr>\n",
       "    <tr>\n",
       "      <th>8410</th>\n",
       "      <td>Panupong Pasupat</td>\n",
       "      <td>THA</td>\n",
       "      <td>Thailand</td>\n",
       "      <td>7</td>\n",
       "      <td>7</td>\n",
       "      <td>3</td>\n",
       "      <td>7</td>\n",
       "      <td>7</td>\n",
       "      <td>0</td>\n",
       "      <td>31</td>\n",
       "      <td>12</td>\n",
       "      <td>2007</td>\n",
       "      <td>Gold medal</td>\n",
       "    </tr>\n",
       "    <tr>\n",
       "      <th>8500</th>\n",
       "      <td>Jack Shotton</td>\n",
       "      <td>UNK</td>\n",
       "      <td>United Kingdom</td>\n",
       "      <td>7</td>\n",
       "      <td>7</td>\n",
       "      <td>2</td>\n",
       "      <td>7</td>\n",
       "      <td>7</td>\n",
       "      <td>1</td>\n",
       "      <td>31</td>\n",
       "      <td>12</td>\n",
       "      <td>2007</td>\n",
       "      <td>Gold medal</td>\n",
       "    </tr>\n",
       "    <tr>\n",
       "      <th>8878</th>\n",
       "      <td>Nikolay Ivanov Beluhov</td>\n",
       "      <td>BGR</td>\n",
       "      <td>Bulgaria</td>\n",
       "      <td>7</td>\n",
       "      <td>7</td>\n",
       "      <td>2</td>\n",
       "      <td>7</td>\n",
       "      <td>7</td>\n",
       "      <td>0</td>\n",
       "      <td>30</td>\n",
       "      <td>19</td>\n",
       "      <td>2007</td>\n",
       "      <td>Gold medal</td>\n",
       "    </tr>\n",
       "    <tr>\n",
       "      <th>...</th>\n",
       "      <td>...</td>\n",
       "      <td>...</td>\n",
       "      <td>...</td>\n",
       "      <td>...</td>\n",
       "      <td>...</td>\n",
       "      <td>...</td>\n",
       "      <td>...</td>\n",
       "      <td>...</td>\n",
       "      <td>...</td>\n",
       "      <td>...</td>\n",
       "      <td>...</td>\n",
       "      <td>...</td>\n",
       "      <td>...</td>\n",
       "    </tr>\n",
       "    <tr>\n",
       "      <th>26456</th>\n",
       "      <td>Kais Mussa</td>\n",
       "      <td>KEN</td>\n",
       "      <td>Kenya</td>\n",
       "      <td>0</td>\n",
       "      <td>0</td>\n",
       "      <td>0</td>\n",
       "      <td>0</td>\n",
       "      <td>0</td>\n",
       "      <td>0</td>\n",
       "      <td>0</td>\n",
       "      <td>568</td>\n",
       "      <td>2016</td>\n",
       "      <td>NaN</td>\n",
       "    </tr>\n",
       "    <tr>\n",
       "      <th>26996</th>\n",
       "      <td>Namfone Homsombath</td>\n",
       "      <td>LAO</td>\n",
       "      <td>Laos</td>\n",
       "      <td>0</td>\n",
       "      <td>0</td>\n",
       "      <td>0</td>\n",
       "      <td>0</td>\n",
       "      <td>0</td>\n",
       "      <td>0</td>\n",
       "      <td>0</td>\n",
       "      <td>568</td>\n",
       "      <td>2016</td>\n",
       "      <td>NaN</td>\n",
       "    </tr>\n",
       "    <tr>\n",
       "      <th>26993</th>\n",
       "      <td>Silinapha Phommasone</td>\n",
       "      <td>LAO</td>\n",
       "      <td>Laos</td>\n",
       "      <td>0</td>\n",
       "      <td>0</td>\n",
       "      <td>0</td>\n",
       "      <td>0</td>\n",
       "      <td>0</td>\n",
       "      <td>0</td>\n",
       "      <td>0</td>\n",
       "      <td>568</td>\n",
       "      <td>2016</td>\n",
       "      <td>NaN</td>\n",
       "    </tr>\n",
       "    <tr>\n",
       "      <th>26998</th>\n",
       "      <td>Somsanouk Sibountien</td>\n",
       "      <td>LAO</td>\n",
       "      <td>Laos</td>\n",
       "      <td>0</td>\n",
       "      <td>0</td>\n",
       "      <td>0</td>\n",
       "      <td>0</td>\n",
       "      <td>0</td>\n",
       "      <td>0</td>\n",
       "      <td>0</td>\n",
       "      <td>568</td>\n",
       "      <td>2016</td>\n",
       "      <td>NaN</td>\n",
       "    </tr>\n",
       "    <tr>\n",
       "      <th>26908</th>\n",
       "      <td>Alain Priva Hajamapionona</td>\n",
       "      <td>MDG</td>\n",
       "      <td>Madagascar</td>\n",
       "      <td>0</td>\n",
       "      <td>0</td>\n",
       "      <td>0</td>\n",
       "      <td>0</td>\n",
       "      <td>0</td>\n",
       "      <td>0</td>\n",
       "      <td>0</td>\n",
       "      <td>568</td>\n",
       "      <td>2016</td>\n",
       "      <td>NaN</td>\n",
       "    </tr>\n",
       "    <tr>\n",
       "      <th>26682</th>\n",
       "      <td>Shine Maw Arnt</td>\n",
       "      <td>MMR</td>\n",
       "      <td>Myanmar</td>\n",
       "      <td>0</td>\n",
       "      <td>0</td>\n",
       "      <td>0</td>\n",
       "      <td>0</td>\n",
       "      <td>0</td>\n",
       "      <td>0</td>\n",
       "      <td>0</td>\n",
       "      <td>568</td>\n",
       "      <td>2016</td>\n",
       "      <td>NaN</td>\n",
       "    </tr>\n",
       "    <tr>\n",
       "      <th>26680</th>\n",
       "      <td>Hnin Wai</td>\n",
       "      <td>MMR</td>\n",
       "      <td>Myanmar</td>\n",
       "      <td>0</td>\n",
       "      <td>0</td>\n",
       "      <td>0</td>\n",
       "      <td>0</td>\n",
       "      <td>0</td>\n",
       "      <td>0</td>\n",
       "      <td>0</td>\n",
       "      <td>568</td>\n",
       "      <td>2016</td>\n",
       "      <td>NaN</td>\n",
       "    </tr>\n",
       "    <tr>\n",
       "      <th>26432</th>\n",
       "      <td>Osama Zeeshan Ahmad</td>\n",
       "      <td>PAK</td>\n",
       "      <td>Pakistan</td>\n",
       "      <td>0</td>\n",
       "      <td>0</td>\n",
       "      <td>0</td>\n",
       "      <td>0</td>\n",
       "      <td>0</td>\n",
       "      <td>0</td>\n",
       "      <td>0</td>\n",
       "      <td>568</td>\n",
       "      <td>2016</td>\n",
       "      <td>NaN</td>\n",
       "    </tr>\n",
       "    <tr>\n",
       "      <th>26994</th>\n",
       "      <td>Mekan Shahanov</td>\n",
       "      <td>TKM</td>\n",
       "      <td>Turkmenistan</td>\n",
       "      <td>0</td>\n",
       "      <td>0</td>\n",
       "      <td>0</td>\n",
       "      <td>0</td>\n",
       "      <td>0</td>\n",
       "      <td>0</td>\n",
       "      <td>0</td>\n",
       "      <td>568</td>\n",
       "      <td>2016</td>\n",
       "      <td>NaN</td>\n",
       "    </tr>\n",
       "    <tr>\n",
       "      <th>26512</th>\n",
       "      <td>Dilshod Bakhriddinov</td>\n",
       "      <td>UZB</td>\n",
       "      <td>Uzbekistan</td>\n",
       "      <td>0</td>\n",
       "      <td>0</td>\n",
       "      <td>0</td>\n",
       "      <td>0</td>\n",
       "      <td>0</td>\n",
       "      <td>0</td>\n",
       "      <td>0</td>\n",
       "      <td>568</td>\n",
       "      <td>2016</td>\n",
       "      <td>NaN</td>\n",
       "    </tr>\n",
       "  </tbody>\n",
       "</table>\n",
       "<p>2759 rows × 13 columns</p>\n",
       "</div>"
      ],
      "text/plain": [
       "                            Name Short_country_name  \\\n",
       "id                                                    \n",
       "15785         Konstantin Matveev                RUS   \n",
       "8821                  Caili Shen                CHN   \n",
       "8976            Danylo Radchenko                UKR   \n",
       "7893             Toshiki Kataoka                JPN   \n",
       "15770       Livia Alexandra Ilie                ROU   \n",
       "8868             Alex (Lin) Zhai                USA   \n",
       "8884                   Jeha Yang                KOR   \n",
       "8410            Panupong Pasupat                THA   \n",
       "8500                Jack Shotton                UNK   \n",
       "8878      Nikolay Ivanov Beluhov                BGR   \n",
       "...                          ...                ...   \n",
       "26456                 Kais Mussa                KEN   \n",
       "26996         Namfone Homsombath                LAO   \n",
       "26993       Silinapha Phommasone                LAO   \n",
       "26998       Somsanouk Sibountien                LAO   \n",
       "26908  Alain Priva Hajamapionona                MDG   \n",
       "26682             Shine Maw Arnt                MMR   \n",
       "26680                   Hnin Wai                MMR   \n",
       "26432        Osama Zeeshan Ahmad                PAK   \n",
       "26994             Mekan Shahanov                TKM   \n",
       "26512       Dilshod Bakhriddinov                UZB   \n",
       "\n",
       "                Full_country_name  P1  P2  P3  P4  P5  P6  Points  Rank  Year  \\\n",
       "id                                                                              \n",
       "15785          Russian Federation   7   7   2   7   7   7      37     1  2007   \n",
       "8821   People's Republic of China   7   7   7   7   7   1      36     2  2007   \n",
       "8976                      Ukraine   7   7   0   7   7   7      35     4  2007   \n",
       "7893                        Japan   7   7   3   7   7   1      32     7  2007   \n",
       "15770                     Romania   7   7   4   7   7   0      32     7  2007   \n",
       "8868     United States of America   7   7   3   7   7   1      32     7  2007   \n",
       "8884            Republic of Korea   7   7   2   7   7   1      31    12  2007   \n",
       "8410                     Thailand   7   7   3   7   7   0      31    12  2007   \n",
       "8500               United Kingdom   7   7   2   7   7   1      31    12  2007   \n",
       "8878                     Bulgaria   7   7   2   7   7   0      30    19  2007   \n",
       "...                           ...  ..  ..  ..  ..  ..  ..     ...   ...   ...   \n",
       "26456                       Kenya   0   0   0   0   0   0       0   568  2016   \n",
       "26996                        Laos   0   0   0   0   0   0       0   568  2016   \n",
       "26993                        Laos   0   0   0   0   0   0       0   568  2016   \n",
       "26998                        Laos   0   0   0   0   0   0       0   568  2016   \n",
       "26908                  Madagascar   0   0   0   0   0   0       0   568  2016   \n",
       "26682                     Myanmar   0   0   0   0   0   0       0   568  2016   \n",
       "26680                     Myanmar   0   0   0   0   0   0       0   568  2016   \n",
       "26432                    Pakistan   0   0   0   0   0   0       0   568  2016   \n",
       "26994                Turkmenistan   0   0   0   0   0   0       0   568  2016   \n",
       "26512                  Uzbekistan   0   0   0   0   0   0       0   568  2016   \n",
       "\n",
       "      Achievement  \n",
       "id                 \n",
       "15785  Gold medal  \n",
       "8821   Gold medal  \n",
       "8976   Gold medal  \n",
       "7893   Gold medal  \n",
       "15770  Gold medal  \n",
       "8868   Gold medal  \n",
       "8884   Gold medal  \n",
       "8410   Gold medal  \n",
       "8500   Gold medal  \n",
       "8878   Gold medal  \n",
       "...           ...  \n",
       "26456         NaN  \n",
       "26996         NaN  \n",
       "26993         NaN  \n",
       "26998         NaN  \n",
       "26908         NaN  \n",
       "26682         NaN  \n",
       "26680         NaN  \n",
       "26432         NaN  \n",
       "26994         NaN  \n",
       "26512         NaN  \n",
       "\n",
       "[2759 rows x 13 columns]"
      ]
     },
     "execution_count": 3,
     "metadata": {},
     "output_type": "execute_result"
    }
   ],
   "source": [
    "data = pd.read_csv('data.csv', thousands=',',index_col = 'id' )\n",
    "data"
   ]
  },
  {
   "cell_type": "code",
   "execution_count": 4,
   "metadata": {
    "collapsed": false
   },
   "outputs": [
    {
     "data": {
      "text/plain": [
       "Name\n",
       "Nipun Pitimanaaree              127\n",
       "Zhuo Qun (Alex) Song            123\n",
       "Lisa Sauermann                  118\n",
       "Makoto Soejima                  107\n",
       "Teodor von Burg                 105\n",
       "Raúl Arturo Chávez Sarmiento     98\n",
       "Daniil Kliuev                    98\n",
       "Sheldon Kieren Tan               96\n",
       "Dušan Milijančević               93\n",
       "Omer Cerrahoglu                  89\n",
       "Elena Mădălina Persu             86\n",
       "Kevin Sun                        86\n",
       "Domagoj Ćevid                    85\n",
       "Hunter Spink                     80\n",
       "Juan Carlos Ortiz Rhoton         77\n",
       "Takuma Kitamura                  75\n",
       "Allen Liu                        75\n",
       "Alex (Lin) Zhai                  74\n",
       "Bobby Shen                       74\n",
       "Sampson Wong                     74\n",
       "Name: Points, dtype: int64"
      ]
     },
     "execution_count": 4,
     "metadata": {},
     "output_type": "execute_result"
    }
   ],
   "source": [
    "best_competitors = data.groupby('Name')\n",
    "best_competitors['Points'].sum().sort_values(ascending=False)[:20]"
   ]
  },
  {
   "cell_type": "code",
   "execution_count": 5,
   "metadata": {
    "collapsed": false
   },
   "outputs": [],
   "source": [
    "po_letih = data.groupby('Year')"
   ]
  },
  {
   "cell_type": "code",
   "execution_count": 6,
   "metadata": {
    "collapsed": false
   },
   "outputs": [
    {
     "data": {
      "text/plain": [
       "<matplotlib.axes._subplots.AxesSubplot at 0x107018710>"
      ]
     },
     "execution_count": 6,
     "metadata": {},
     "output_type": "execute_result"
    },
    {
     "data": {
      "image/png": "[encoded data removed]",
      "text/plain": [
       "<matplotlib.figure.Figure at 0x10701ab70>"
      ]
     },
     "metadata": {},
     "output_type": "display_data"
    }
   ],
   "source": [
    "po_letih[['P1','P2','P3','P4','P5','P6']].mean().plot(kind='bar', stacked=True, figsize=(6, 4), fontsize=10)"
   ]
  },
  {
   "cell_type": "code",
   "execution_count": 7,
   "metadata": {
    "collapsed": false
   },
   "outputs": [
    {
     "data": {
      "text/plain": [
       "Short_country_name\n",
       "CHN    32.942857\n",
       "USA    30.851852\n",
       "RUS    29.812500\n",
       "KOR    29.766667\n",
       "JPN    26.968750\n",
       "PRK    26.958333\n",
       "TWN    26.781250\n",
       "THA    25.967742\n",
       "VNM    25.718750\n",
       "IRN    25.500000\n",
       "CAN    25.028571\n",
       "UKR    23.818182\n",
       "SGP    23.583333\n",
       "ROU    23.558824\n",
       "TUR    23.027778\n",
       "GER    22.666667\n",
       "BGR    21.900000\n",
       "UNK    21.814815\n",
       "HUN    21.500000\n",
       "BRA    21.428571\n",
       "Name: Points, dtype: float64"
      ]
     },
     "execution_count": 7,
     "metadata": {},
     "output_type": "execute_result"
    }
   ],
   "source": [
    "po_drzavah = data.groupby('Short_country_name')\n",
    "po_drzavah['Points'].mean().sort_values(ascending=False)[:20]"
   ]
  },
  {
   "cell_type": "code",
   "execution_count": 8,
   "metadata": {
    "collapsed": false
   },
   "outputs": [
    {
     "data": {
      "text/plain": [
       "<matplotlib.axes._subplots.AxesSubplot at 0x10714a7b8>"
      ]
     },
     "execution_count": 8,
     "metadata": {},
     "output_type": "execute_result"
    },
    {
     "data": {
      "image/png": "[encoded data removed]",
      "text/plain": [
       "<matplotlib.figure.Figure at 0x107060da0>"
      ]
     },
     "metadata": {},
     "output_type": "display_data"
    }
   ],
   "source": [
    "zlati= data[data.Achievement == 'Gold medal']\n",
    "zlati.groupby('Year')['Points'].min().plot(kind='bar')"
   ]
  },
  {
   "cell_type": "code",
   "execution_count": 9,
   "metadata": {
    "collapsed": false
   },
   "outputs": [
    {
     "data": {
      "text/plain": [
       "<matplotlib.axes._subplots.AxesSubplot at 0x10717d400>"
      ]
     },
     "execution_count": 9,
     "metadata": {},
     "output_type": "execute_result"
    },
    {
     "data": {
      "image/png": "[encoded data removed]",
      "text/plain": [
       "<matplotlib.figure.Figure at 0x1071d4b38>"
      ]
     },
     "metadata": {},
     "output_type": "display_data"
    }
   ],
   "source": [
    "srebrni= data[data.Achievement == 'Silver medal']\n",
    "srebrni.groupby('Year')['Points'].min().plot(kind='bar')"
   ]
  },
  {
   "cell_type": "code",
   "execution_count": 10,
   "metadata": {
    "collapsed": false
   },
   "outputs": [
    {
     "data": {
      "text/plain": [
       "<matplotlib.axes._subplots.AxesSubplot at 0x1073cdb70>"
      ]
     },
     "execution_count": 10,
     "metadata": {},
     "output_type": "execute_result"
    },
    {
     "data": {
      "image/png": "[encoded data removed]",
      "text/plain": [
       "<matplotlib.figure.Figure at 0x10742b860>"
      ]
     },
     "metadata": {},
     "output_type": "display_data"
    }
   ],
   "source": [
    "bronasti= data[data.Achievement == 'Bronze medal']\n",
    "bronasti.groupby('Year')['Points'].min().plot(kind='bar')"
   ]
  },
  {
   "cell_type": "code",
   "execution_count": null,
   "metadata": {
    "collapsed": true
   },
   "outputs": [],
   "source": []
  }
 ],
 "metadata": {
  "kernelspec": {
   "display_name": "Python 3",
   "language": "python",
   "name": "python3"
  },
  "language_info": {
   "codemirror_mode": {
    "name": "ipython",
    "version": 3
   },
   "file_extension": ".py",
   "mimetype": "text/x-python",
   "name": "python",
   "nbconvert_exporter": "python",
   "pygments_lexer": "ipython3",
   "version": "3.5.1"
  }
 },
 "nbformat": 4,
 "nbformat_minor": 1
}
